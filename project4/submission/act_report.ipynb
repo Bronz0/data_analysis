{
 "cells": [
  {
   "cell_type": "markdown",
   "metadata": {},
   "source": [
    "# Analysis and Visualisation\n",
    "## Introduction\n",
    "> The data that we are going to be analyzing and visualizing is the tweets dataset of Twitter user <a href='https://twitter.com/dog_rates'>@dog_rates</a> WeRateDogs is a Twitter account that rates people's dogs, it has been a popular account because of the unique rating system that they are using. These ratings almost always have a denominator of 10 and the numerators, almost always greater than 10. 11/10, 12/10, 13/10.<br>\n",
    "In this analysis, we are trying to gain interesting facts about this data."
   ]
  },
  {
   "cell_type": "markdown",
   "metadata": {},
   "source": [
    "**Does the page become more popular over time?**\n",
    "![](img1.png)\n",
    ">According to the plot, the retweet_count mean is increasing over the months the same thing for favorite_count so it looks like the page becomes more popular over time.\n",
    "\n",
    "<br>\n",
    "\n",
    "**What are the most popular dog names?**\n",
    "![](img2.png)\n",
    ">According to the plot Charlie is the most popular dog name followed by (Lucy, Oliver, and Cooper) in the second place then Tucker in the third place.<br>\n",
    "the results obtained from our dataset matches the results obtained from Rover website <a href='https://www.rover.com/blog/2017-top-100-dog-names/'>2017 Top 100 dog names</a>\n",
    "![](img3.png)\n",
    "\n",
    "<br>\n",
    "\n",
    "**What is the most popular dog stage?**\n",
    "![](img4.png)\n",
    ">According to the plot The most popular dog stage is pupper (it apears the most in the tweets) followed by doggo then puppo and the combination of (doggo and pupper) in the fourth place.\n",
    "\n",
    "<br>\n",
    "\n",
    "**What is the most favorited dog stage?**\n",
    "![](img5.png)\n",
    ">According to the plot the most favorited dog category is the combination of (doggo, puppo) followed by puppo than doggo, a remarkable thing that the combinations (doggo, floofer) and (doggo, pupper) have more favorites than only floofer or only pupper, and another thing which is not expected is that pupper is the least favorited dog stage while it is the most appeared in the tweets comparing to other dog stages (about 172 tweets)."
   ]
  }
 ],
 "metadata": {
  "kernelspec": {
   "display_name": "Python 3",
   "language": "python",
   "name": "python3"
  },
  "language_info": {
   "codemirror_mode": {
    "name": "ipython",
    "version": 3
   },
   "file_extension": ".py",
   "mimetype": "text/x-python",
   "name": "python",
   "nbconvert_exporter": "python",
   "pygments_lexer": "ipython3",
   "version": "3.6.8"
  }
 },
 "nbformat": 4,
 "nbformat_minor": 2
}
